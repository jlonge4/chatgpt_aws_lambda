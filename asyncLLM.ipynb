{
  "nbformat": 4,
  "nbformat_minor": 0,
  "metadata": {
    "colab": {
      "provenance": [],
      "authorship_tag": "ABX9TyMdq//Vy3QzpaEaE2c8TNZE",
      "include_colab_link": true
    },
    "kernelspec": {
      "name": "python3",
      "display_name": "Python 3"
    },
    "language_info": {
      "name": "python"
    }
  },
  "cells": [
    {
      "cell_type": "markdown",
      "metadata": {
        "id": "view-in-github",
        "colab_type": "text"
      },
      "source": [
        "<a href=\"https://colab.research.google.com/github/jlonge4/chatgpt_aws_lambda/blob/main/asyncLLM.ipynb\" target=\"_parent\"><img src=\"https://colab.research.google.com/assets/colab-badge.svg\" alt=\"Open In Colab\"/></a>"
      ]
    },
    {
      "cell_type": "code",
      "execution_count": null,
      "metadata": {
        "id": "jAupSBYNGGOg"
      },
      "outputs": [],
      "source": [
        "pip install boto3 langchain"
      ]
    },
    {
      "cell_type": "code",
      "source": [
        "import time\n",
        "import boto3\n",
        "import asyncio\n",
        "from langchain.llms import Bedrock\n",
        "\n",
        "bedrock = boto3.client('bedrock-runtime')"
      ],
      "metadata": {
        "id": "zpDwYJhaGhJQ"
      },
      "execution_count": 3,
      "outputs": []
    },
    {
      "cell_type": "code",
      "source": [
        "model_params = {\n",
        "                'max_tokens_to_sample':250,\n",
        "                'temperature':0,\n",
        "                'top_k':100,\n",
        "                'stop_sequences':['Human:'],\n",
        "                }\n",
        "\n",
        "llm = Bedrock(\n",
        "    model_id=\"anthropic.claude-v2\",\n",
        "    client=bedrock\n",
        ")\n"
      ],
      "metadata": {
        "id": "OfNCI-7HGpwy"
      },
      "execution_count": 7,
      "outputs": []
    },
    {
      "cell_type": "code",
      "source": [
        "def generate_serially():\n",
        "    for _ in range(10):\n",
        "        resp = llm.generate([\"Hello, how are you?\"])\n",
        "        print(resp.generations[0][0].text)\n",
        "\n",
        "\n",
        "async def async_generate(llm):\n",
        "    resp = await llm.agenerate([\"Hello, how are you?\"])\n",
        "    print(resp.generations[0][0].text)\n",
        "\n",
        "\n",
        "async def generate_concurrently():\n",
        "    tasks = [async_generate(llm) for _ in range(10)]\n",
        "    await asyncio.gather(*tasks)\n",
        "\n",
        "\n",
        "s = time.perf_counter()\n",
        "# If running this outside of Jupyter, use asyncio.run(generate_concurrently())\n",
        "await generate_concurrently()\n",
        "elapsed = time.perf_counter() - s\n",
        "print(\"\\033[1m\" + f\"Concurrent executed in {elapsed:0.2f} seconds.\" + \"\\033[0m\")\n",
        "\n",
        "s = time.perf_counter()\n",
        "generate_serially()\n",
        "elapsed = time.perf_counter() - s\n",
        "print(\"\\033[1m\" + f\"Serial executed in {elapsed:0.2f} seconds.\" + \"\\033[0m\")"
      ],
      "metadata": {
        "colab": {
          "base_uri": "https://localhost:8080/"
        },
        "id": "PlLNtv52GM6C",
        "outputId": "a62c177a-86e7-4fa1-9b54-f56d72b6545d"
      },
      "execution_count": 9,
      "outputs": [
        {
          "output_type": "stream",
          "name": "stderr",
          "text": [
            "/usr/local/lib/python3.10/dist-packages/urllib3/connectionpool.py:1095: InsecureRequestWarning: Unverified HTTPS request is being made to host 'bedrock-runtime.us-east-1.amazonaws.com'. Adding certificate verification is strongly advised. See: https://urllib3.readthedocs.io/en/latest/advanced-usage.html#tls-warnings\n",
            "  warnings.warn(\n"
          ]
        },
        {
          "output_type": "stream",
          "name": "stdout",
          "text": [
            " I'm doing well, thanks for asking!\n",
            " I'm doing well, thanks for asking!\n",
            " I'm doing well, thanks for asking!\n",
            " I'm doing well, thanks for asking!\n",
            " I'm doing well, thanks for asking!\n",
            " I'm doing well, thanks for asking!\n",
            " I'm doing well, thanks for asking!\n",
            " I'm doing well, thanks for asking!\n",
            " I'm doing well, thanks for asking!\n",
            " I'm doing well, thanks for asking!\n",
            "\u001b[1mConcurrent executed in 4.92 seconds.\u001b[0m\n",
            " I'm doing well, thanks for asking!\n",
            " I'm doing well, thanks for asking!\n",
            " I'm doing well, thanks for asking!\n",
            " I'm doing well, thanks for asking!\n",
            " I'm doing well, thanks for asking!\n",
            " I'm doing well, thanks for asking!\n",
            " I'm doing well, thanks for asking!\n",
            " I'm doing well, thanks for asking!\n",
            " I'm doing well, thanks for asking!\n",
            " I'm doing well, thanks for asking!\n",
            "\u001b[1mSerial executed in 7.25 seconds.\u001b[0m\n"
          ]
        }
      ]
    }
  ]
}